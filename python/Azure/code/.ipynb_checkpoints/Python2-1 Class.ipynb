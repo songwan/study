{
  "cells": [
    {
      "metadata": {},
      "cell_type": "markdown",
      "source": "# 클래스의 사용법"
    },
    {
      "metadata": {
        "trusted": true
      },
      "cell_type": "code",
      "source": "class MyClass:\n    '''Simple class'''\n    pass",
      "execution_count": 2,
      "outputs": []
    },
    {
      "metadata": {
        "trusted": true
      },
      "cell_type": "code",
      "source": "MyClass",
      "execution_count": 3,
      "outputs": [
        {
          "output_type": "execute_result",
          "execution_count": 3,
          "data": {
            "text/plain": "__main__.MyClass"
          },
          "metadata": {}
        }
      ]
    },
    {
      "metadata": {
        "trusted": true
      },
      "cell_type": "code",
      "source": "type(MyClass)",
      "execution_count": 4,
      "outputs": [
        {
          "output_type": "execute_result",
          "execution_count": 4,
          "data": {
            "text/plain": "type"
          },
          "metadata": {}
        }
      ]
    },
    {
      "metadata": {
        "trusted": true
      },
      "cell_type": "code",
      "source": "class Person:\n    Name = \"Default Name\"\n    def Print(self):\n        print('My name is {0}'.format(self.Name))",
      "execution_count": 6,
      "outputs": []
    },
    {
      "metadata": {
        "trusted": true
      },
      "cell_type": "code",
      "source": "p1 = Person()",
      "execution_count": 7,
      "outputs": []
    },
    {
      "metadata": {
        "trusted": true
      },
      "cell_type": "code",
      "source": "p1.Print()",
      "execution_count": 8,
      "outputs": [
        {
          "output_type": "stream",
          "text": "My name is Default Name\n",
          "name": "stdout"
        }
      ]
    },
    {
      "metadata": {
        "trusted": true
      },
      "cell_type": "code",
      "source": "p1.Name = '김영욱'",
      "execution_count": 9,
      "outputs": []
    },
    {
      "metadata": {
        "trusted": true
      },
      "cell_type": "code",
      "source": "p1.Print()",
      "execution_count": 10,
      "outputs": [
        {
          "output_type": "stream",
          "text": "My name is 김영욱\n",
          "name": "stdout"
        }
      ]
    },
    {
      "metadata": {
        "trusted": true
      },
      "cell_type": "code",
      "source": "p1 = Person()\np2 = Person()",
      "execution_count": 11,
      "outputs": []
    },
    {
      "metadata": {
        "trusted": true
      },
      "cell_type": "code",
      "source": "p1.Name = '박보검'\np2.Name = '민아'",
      "execution_count": 12,
      "outputs": []
    },
    {
      "metadata": {
        "trusted": true
      },
      "cell_type": "code",
      "source": "p1.Print()\np2.Print()",
      "execution_count": 13,
      "outputs": [
        {
          "output_type": "stream",
          "text": "My name is 박보검\nMy name is 민아\n",
          "name": "stdout"
        }
      ]
    },
    {
      "metadata": {
        "trusted": true
      },
      "cell_type": "code",
      "source": "Person.title = 'New title'",
      "execution_count": 14,
      "outputs": []
    },
    {
      "metadata": {
        "trusted": true
      },
      "cell_type": "code",
      "source": "p1.title",
      "execution_count": 15,
      "outputs": [
        {
          "output_type": "execute_result",
          "execution_count": 15,
          "data": {
            "text/plain": "'New title'"
          },
          "metadata": {}
        }
      ]
    },
    {
      "metadata": {
        "trusted": true
      },
      "cell_type": "code",
      "source": "p2.title",
      "execution_count": 16,
      "outputs": [
        {
          "output_type": "execute_result",
          "execution_count": 16,
          "data": {
            "text/plain": "'New title'"
          },
          "metadata": {}
        }
      ]
    },
    {
      "metadata": {
        "trusted": true
      },
      "cell_type": "code",
      "source": "p1.age = 20",
      "execution_count": 17,
      "outputs": []
    },
    {
      "metadata": {
        "trusted": true
      },
      "cell_type": "code",
      "source": "p1.age",
      "execution_count": 18,
      "outputs": [
        {
          "output_type": "execute_result",
          "execution_count": 18,
          "data": {
            "text/plain": "20"
          },
          "metadata": {}
        }
      ]
    },
    {
      "metadata": {
        "trusted": true
      },
      "cell_type": "code",
      "source": "p2.age",
      "execution_count": 19,
      "outputs": [
        {
          "output_type": "error",
          "ename": "AttributeError",
          "evalue": "'Person' object has no attribute 'age'",
          "traceback": [
            "\u001b[0;31m---------------------------------------------------------------------------\u001b[0m",
            "\u001b[0;31mAttributeError\u001b[0m                            Traceback (most recent call last)",
            "\u001b[0;32m<ipython-input-19-df2090e07939>\u001b[0m in \u001b[0;36m<module>\u001b[0;34m()\u001b[0m\n\u001b[0;32m----> 1\u001b[0;31m \u001b[0mp2\u001b[0m\u001b[0;34m.\u001b[0m\u001b[0mage\u001b[0m\u001b[0;34m\u001b[0m\u001b[0m\n\u001b[0m",
            "\u001b[0;31mAttributeError\u001b[0m: 'Person' object has no attribute 'age'"
          ]
        }
      ]
    },
    {
      "metadata": {
        "trusted": true
      },
      "cell_type": "markdown",
      "source": "## 클래스의 상속"
    },
    {
      "metadata": {
        "trusted": true
      },
      "cell_type": "code",
      "source": "class Person:\n    pass",
      "execution_count": 1,
      "outputs": []
    },
    {
      "metadata": {
        "trusted": true
      },
      "cell_type": "code",
      "source": "class Bird:\n    pass",
      "execution_count": 2,
      "outputs": []
    },
    {
      "metadata": {
        "trusted": true
      },
      "cell_type": "code",
      "source": "class Student(Person):\n    pass",
      "execution_count": 3,
      "outputs": []
    },
    {
      "metadata": {
        "trusted": true
      },
      "cell_type": "code",
      "source": "p = Person()\ns = Student()",
      "execution_count": 4,
      "outputs": []
    },
    {
      "metadata": {
        "trusted": true
      },
      "cell_type": "code",
      "source": "isinstance(p, Person)",
      "execution_count": 5,
      "outputs": [
        {
          "output_type": "execute_result",
          "execution_count": 5,
          "data": {
            "text/plain": "True"
          },
          "metadata": {}
        }
      ]
    },
    {
      "metadata": {
        "trusted": true
      },
      "cell_type": "code",
      "source": "isinstance(s, Person)",
      "execution_count": 6,
      "outputs": [
        {
          "output_type": "execute_result",
          "execution_count": 6,
          "data": {
            "text/plain": "True"
          },
          "metadata": {}
        }
      ]
    },
    {
      "metadata": {
        "trusted": true
      },
      "cell_type": "code",
      "source": "isinstance(p, object)",
      "execution_count": 7,
      "outputs": [
        {
          "output_type": "execute_result",
          "execution_count": 7,
          "data": {
            "text/plain": "True"
          },
          "metadata": {}
        }
      ]
    },
    {
      "metadata": {
        "trusted": true
      },
      "cell_type": "code",
      "source": "isinstance(p, Bird)",
      "execution_count": 8,
      "outputs": [
        {
          "output_type": "execute_result",
          "execution_count": 8,
          "data": {
            "text/plain": "False"
          },
          "metadata": {}
        }
      ]
    },
    {
      "metadata": {
        "trusted": true
      },
      "cell_type": "code",
      "source": "isinstance(int, object)",
      "execution_count": 9,
      "outputs": [
        {
          "output_type": "execute_result",
          "execution_count": 9,
          "data": {
            "text/plain": "True"
          },
          "metadata": {}
        }
      ]
    },
    {
      "metadata": {
        "trusted": true
      },
      "cell_type": "markdown",
      "source": "## 생성자 소멸자 메소드 "
    },
    {
      "metadata": {
        "trusted": true
      },
      "cell_type": "code",
      "source": "class MyClass:\n    def __init__(self, value):\n        self.Value = value\n        print(\"Class is created! Value = \", value)\n        \n    def __del__(self):\n        print(\"Class is deleted\")",
      "execution_count": 10,
      "outputs": []
    },
    {
      "metadata": {
        "trusted": true
      },
      "cell_type": "code",
      "source": "m = MyClass(10)\ndel m",
      "execution_count": 12,
      "outputs": [
        {
          "output_type": "stream",
          "text": "Class is created! Value =  10\nClass is deleted\nClass is deleted\n",
          "name": "stdout"
        }
      ]
    },
    {
      "metadata": {
        "trusted": true
      },
      "cell_type": "markdown",
      "source": "## 정적 메소드 "
    },
    {
      "metadata": {
        "trusted": true
      },
      "cell_type": "code",
      "source": "class CounterManager:\n    insCount = 0\n    \n    def __init__(self):\n        CounterManager.insCount += 1\n    def printInstanceCount():\n        print('Instance Count:', CounterManager.insCount)",
      "execution_count": 47,
      "outputs": []
    },
    {
      "metadata": {
        "trusted": true
      },
      "cell_type": "code",
      "source": "a, b, c = CounterManager(), CounterManager(), CounterManager()",
      "execution_count": 48,
      "outputs": []
    },
    {
      "metadata": {
        "trusted": true
      },
      "cell_type": "code",
      "source": "CounterManager.printInstanceCount()",
      "execution_count": 49,
      "outputs": [
        {
          "output_type": "stream",
          "text": "Instance Count: 3\n",
          "name": "stdout"
        }
      ]
    },
    {
      "metadata": {
        "trusted": true
      },
      "cell_type": "code",
      "source": "p = CounterManager()\np.printInstanceCount()",
      "execution_count": 50,
      "outputs": [
        {
          "output_type": "error",
          "ename": "TypeError",
          "evalue": "printInstanceCount() takes 0 positional arguments but 1 was given",
          "traceback": [
            "\u001b[0;31m---------------------------------------------------------------------------\u001b[0m",
            "\u001b[0;31mTypeError\u001b[0m                                 Traceback (most recent call last)",
            "\u001b[0;32m<ipython-input-50-f39321d4da05>\u001b[0m in \u001b[0;36m<module>\u001b[0;34m()\u001b[0m\n\u001b[1;32m      1\u001b[0m \u001b[0mp\u001b[0m \u001b[0;34m=\u001b[0m \u001b[0mCounterManager\u001b[0m\u001b[0;34m(\u001b[0m\u001b[0;34m)\u001b[0m\u001b[0;34m\u001b[0m\u001b[0m\n\u001b[0;32m----> 2\u001b[0;31m \u001b[0mp\u001b[0m\u001b[0;34m.\u001b[0m\u001b[0mprintInstanceCount\u001b[0m\u001b[0;34m(\u001b[0m\u001b[0;34m)\u001b[0m\u001b[0;34m\u001b[0m\u001b[0m\n\u001b[0m",
            "\u001b[0;31mTypeError\u001b[0m: printInstanceCount() takes 0 positional arguments but 1 was given"
          ]
        }
      ]
    },
    {
      "metadata": {
        "trusted": true
      },
      "cell_type": "code",
      "source": "class CounterManager:\n    insCount = 0\n    \n    def __init__(self):\n        CounterManager.insCount += 1\n    def staticPrintCount():\n        print('Instance Count:', CounterManager.insCount)\n    \n    SPrintCount = staticmethod(staticPrintCount) #정적 메소드",
      "execution_count": 51,
      "outputs": []
    },
    {
      "metadata": {
        "trusted": true
      },
      "cell_type": "code",
      "source": "a, b, c = CounterManager(), CounterManager(), CounterManager()",
      "execution_count": 52,
      "outputs": []
    },
    {
      "metadata": {
        "trusted": true
      },
      "cell_type": "code",
      "source": "CounterManager.SPrintCount()",
      "execution_count": 53,
      "outputs": [
        {
          "output_type": "stream",
          "text": "Instance Count: 3\n",
          "name": "stdout"
        }
      ]
    },
    {
      "metadata": {
        "trusted": true
      },
      "cell_type": "code",
      "source": "b.SPrintCount()",
      "execution_count": 54,
      "outputs": [
        {
          "output_type": "stream",
          "text": "Instance Count: 3\n",
          "name": "stdout"
        }
      ]
    },
    {
      "metadata": {
        "trusted": true
      },
      "cell_type": "markdown",
      "source": "## 상속"
    },
    {
      "metadata": {
        "trusted": true
      },
      "cell_type": "code",
      "source": "class Person:\n    \n    def __init__(self, name, phone):\n        self.Name = name\n        self.Phone = phone\n        \n    def PrintInfo(self):\n        print(\"Info(Name: {0}, Phone: {1})\".format(self.Name, self.phone))\n        \n    def PrintPersonData(self):\n        print(\"Person(Name: {0}, Phone: {1})\".format(self.Name, self.phone))",
      "execution_count": 16,
      "outputs": []
    },
    {
      "metadata": {
        "trusted": true
      },
      "cell_type": "code",
      "source": "class  Student(Person):\n    \n    def __init__(self, name, phone, subject, studentID):\n        self.Name = name\n        self.Phone = phone\n        self.Subject = subject\n        self.StudentID = studentID",
      "execution_count": 17,
      "outputs": []
    },
    {
      "metadata": {
        "trusted": true
      },
      "cell_type": "code",
      "source": "p = Person('박보검','010-000-0000')",
      "execution_count": 18,
      "outputs": []
    },
    {
      "metadata": {
        "trusted": true
      },
      "cell_type": "code",
      "source": "s = Student('민아','010-111-1111','Computer Science','00001')",
      "execution_count": 19,
      "outputs": []
    },
    {
      "metadata": {
        "trusted": true
      },
      "cell_type": "code",
      "source": "p.__dict__",
      "execution_count": 20,
      "outputs": [
        {
          "output_type": "execute_result",
          "execution_count": 20,
          "data": {
            "text/plain": "{'Name': '박보검', 'Phone': '010-000-0000'}"
          },
          "metadata": {}
        }
      ]
    },
    {
      "metadata": {
        "trusted": true
      },
      "cell_type": "code",
      "source": "s.__dict__",
      "execution_count": 21,
      "outputs": [
        {
          "output_type": "execute_result",
          "execution_count": 21,
          "data": {
            "text/plain": "{'Name': '민아',\n 'Phone': '010-111-1111',\n 'StudentID': '00001',\n 'Subject': 'Computer Science'}"
          },
          "metadata": {}
        }
      ]
    },
    {
      "metadata": {
        "trusted": true
      },
      "cell_type": "markdown",
      "source": "## 상속 관계의 확인"
    },
    {
      "metadata": {
        "trusted": true
      },
      "cell_type": "code",
      "source": "issubclass(Student, Person)",
      "execution_count": 22,
      "outputs": [
        {
          "output_type": "execute_result",
          "execution_count": 22,
          "data": {
            "text/plain": "True"
          },
          "metadata": {}
        }
      ]
    },
    {
      "metadata": {
        "trusted": true
      },
      "cell_type": "code",
      "source": "issubclass(Person, Student)",
      "execution_count": 23,
      "outputs": [
        {
          "output_type": "execute_result",
          "execution_count": 23,
          "data": {
            "text/plain": "False"
          },
          "metadata": {}
        }
      ]
    },
    {
      "metadata": {
        "trusted": true
      },
      "cell_type": "code",
      "source": "class  Student(Person):\n    \n    def __init__(self, name, phone, subject, studentID):\n        self.Name = name\n        self.Phone = phone\n        self.Subject = subject\n        self.StudentID = studentID\n        \n        Person.__init__(self, name, phone)  #부모 클레스의 호출 \n    ",
      "execution_count": 24,
      "outputs": []
    },
    {
      "metadata": {
        "trusted": true
      },
      "cell_type": "code",
      "source": "s = Student('민아','010-111-1111','Computer Science','00001')",
      "execution_count": 25,
      "outputs": []
    },
    {
      "metadata": {
        "trusted": true
      },
      "cell_type": "code",
      "source": "## 메소드 추가히기",
      "execution_count": 26,
      "outputs": []
    },
    {
      "metadata": {
        "trusted": true
      },
      "cell_type": "code",
      "source": "class  Student(Person):\n    \n    def __init__(self, name, phone, subject, studentID):\n        self.Name = name\n        self.Phone = phone\n        self.Subject = subject\n        self.StudentID = studentID\n        \n        Person.__init__(self, name, phone)\n        \n    def PrintStudentData(self):\n        print(\"Student(Name: {0}, StudentID: {1})\".format(self.Name, self.StudentID))",
      "execution_count": 27,
      "outputs": []
    },
    {
      "metadata": {
        "trusted": true
      },
      "cell_type": "code",
      "source": "s = Student('민아','010-111-1111','Computer Science','00001')",
      "execution_count": 28,
      "outputs": []
    },
    {
      "metadata": {
        "trusted": true
      },
      "cell_type": "code",
      "source": "s.PrintStudentData()",
      "execution_count": 29,
      "outputs": [
        {
          "output_type": "stream",
          "text": "Student(Name: 민아, StudentID: 00001)\n",
          "name": "stdout"
        }
      ]
    },
    {
      "metadata": {
        "trusted": true
      },
      "cell_type": "code",
      "source": "class  Student(Person):\n    \n    def __init__(self, name, phone, subject, studentID):\n        self.Name = name\n        self.Phone = phone\n        self.Subject = subject\n        self.StudentID = studentID\n        \n        Person.__init__(self, name, phone)\n        \n    def PrintStudentData(self):\n        print(\"Student(Name: {0}, StudentID: {1})\".format(self.Name, self.StudentID))\n    \n    def PrintInfo(self): #부모 메소드의 재정의 \n        print(\"Person(Name: {0}, Phone: {1})\".format(self.Name, self.Phone))\n        print(\"Student(Name: {0}, StudentID: {1})\".format(self.Name, self.StudentID))",
      "execution_count": 30,
      "outputs": []
    },
    {
      "metadata": {
        "trusted": true
      },
      "cell_type": "code",
      "source": "s = Student('민아','010-111-1111','Computer Science','00001')",
      "execution_count": 31,
      "outputs": []
    },
    {
      "metadata": {
        "trusted": true
      },
      "cell_type": "code",
      "source": "s.PrintInfo()",
      "execution_count": 32,
      "outputs": [
        {
          "output_type": "stream",
          "text": "Person(Name: 민아, Phone: 010-111-1111)\nStudent(Name: 민아, StudentID: 00001)\n",
          "name": "stdout"
        }
      ]
    },
    {
      "metadata": {},
      "cell_type": "markdown",
      "source": "## 다중 상속"
    },
    {
      "metadata": {
        "trusted": true
      },
      "cell_type": "code",
      "source": "class Tiger:\n    def Jump(self):\n        print('호랑이 점프')",
      "execution_count": 33,
      "outputs": []
    },
    {
      "metadata": {
        "trusted": true
      },
      "cell_type": "code",
      "source": "class Lion:\n    def Bite(self):\n        print('사자의 물기')",
      "execution_count": 2,
      "outputs": []
    },
    {
      "metadata": {
        "trusted": true
      },
      "cell_type": "code",
      "source": "class Liger(Tiger, Lion):\n    def Play(self):\n        print('라이거의 놀기')",
      "execution_count": 3,
      "outputs": []
    },
    {
      "metadata": {
        "trusted": true
      },
      "cell_type": "code",
      "source": "l = Liger()",
      "execution_count": 4,
      "outputs": []
    },
    {
      "metadata": {
        "trusted": true
      },
      "cell_type": "code",
      "source": "l.Bite()",
      "execution_count": 5,
      "outputs": [
        {
          "output_type": "stream",
          "text": "사자의 물기\n",
          "name": "stdout"
        }
      ]
    },
    {
      "metadata": {
        "trusted": true
      },
      "cell_type": "code",
      "source": "l.Jump()",
      "execution_count": 6,
      "outputs": [
        {
          "output_type": "stream",
          "text": "호랑이 점프\n",
          "name": "stdout"
        }
      ]
    },
    {
      "metadata": {
        "trusted": true
      },
      "cell_type": "code",
      "source": "class Tiger:\n    def Jump(self):\n        print('호랑이 점프')\n    \n    def Cry(self):\n        print('호랑이: 어흥')",
      "execution_count": 39,
      "outputs": []
    },
    {
      "metadata": {
        "trusted": true
      },
      "cell_type": "code",
      "source": "class Lion:\n    def Bite(self):\n        print('사자의 물기')\n    \n    def Cry(self):\n        print('사자: 으르렁')",
      "execution_count": 40,
      "outputs": []
    },
    {
      "metadata": {
        "trusted": true
      },
      "cell_type": "code",
      "source": "class Liger(Tiger, Lion):\n    def Play(self):\n        print('라이거 논다')",
      "execution_count": 41,
      "outputs": []
    },
    {
      "metadata": {
        "trusted": true
      },
      "cell_type": "code",
      "source": "l = Liger()",
      "execution_count": 42,
      "outputs": []
    },
    {
      "metadata": {
        "trusted": true
      },
      "cell_type": "code",
      "source": "l.Cry()",
      "execution_count": 43,
      "outputs": [
        {
          "output_type": "stream",
          "text": "호랑이: 어흥\n",
          "name": "stdout"
        }
      ]
    },
    {
      "metadata": {
        "trusted": true
      },
      "cell_type": "code",
      "source": "",
      "execution_count": null,
      "outputs": []
    }
  ],
  "metadata": {
    "kernelspec": {
      "name": "python36",
      "display_name": "Python 3.6",
      "language": "python"
    },
    "language_info": {
      "mimetype": "text/x-python",
      "nbconvert_exporter": "python",
      "name": "python",
      "pygments_lexer": "ipython3",
      "version": "3.6.3",
      "file_extension": ".py",
      "codemirror_mode": {
        "version": 3,
        "name": "ipython"
      }
    }
  },
  "nbformat": 4,
  "nbformat_minor": 2
}